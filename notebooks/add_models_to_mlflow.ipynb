{
 "cells": [
  {
   "cell_type": "markdown",
   "metadata": {},
   "source": [
    "# Loading saved models to neuefische's MLFlow AWS Server "
   ]
  },
  {
   "cell_type": "code",
   "execution_count": 1,
   "metadata": {},
   "outputs": [],
   "source": [
    "import os\n",
    "import pickle\n",
    "import tensorflow as tf\n",
    "import mlflow\n",
    "from config import EXPERIMENT_NAME\n",
    "TRACKING_URI = open(\"../.mlflow_uri\").read().strip()"
   ]
  },
  {
   "cell_type": "markdown",
   "metadata": {},
   "source": [
    "### Set paths"
   ]
  },
  {
   "cell_type": "code",
   "execution_count": null,
   "metadata": {},
   "outputs": [],
   "source": [
    "# Get current absolute path of parent folder of this file\n",
    "path_notebooks = os.path.dirname(os.path.abspath('add_models_to_mlflow'))\n",
    "\n",
    "# Get path of parent directory, i.e. path to repo\n",
    "path = os.path.abspath(os.path.join(path_notebooks, os.pardir))"
   ]
  },
  {
   "cell_type": "markdown",
   "metadata": {},
   "source": [
    "### List saved models"
   ]
  },
  {
   "cell_type": "code",
   "execution_count": null,
   "metadata": {},
   "outputs": [],
   "source": [
    "# list available models stored in 'saved_model' (without hidden folders)\n",
    "x = os.listdir(path + '/saved_model')\n",
    "x = [i for i in x if not i.startswith('.')]\n",
    "print(*x, sep = \"\\n\")"
   ]
  },
  {
   "cell_type": "markdown",
   "metadata": {},
   "source": [
    "## Step 1) Start MLFlow Run"
   ]
  },
  {
   "cell_type": "code",
   "execution_count": 2,
   "metadata": {},
   "outputs": [],
   "source": [
    "# setting the MLFlow connection and experiment\n",
    "mlflow.set_tracking_uri(TRACKING_URI)\n",
    "mlflow.set_experiment(EXPERIMENT_NAME)\n",
    "mlflow.start_run(run_name='base model test-extern')\n",
    "\n",
    "run = mlflow.active_run()"
   ]
  },
  {
   "cell_type": "markdown",
   "metadata": {},
   "source": [
    "## Step 2) Load model & setup"
   ]
  },
  {
   "cell_type": "code",
   "execution_count": 3,
   "metadata": {},
   "outputs": [
    {
     "name": "stdout",
     "output_type": "stream",
     "text": [
      "Metal device set to: Apple M1\n",
      "\n",
      "systemMemory: 8.00 GB\n",
      "maxCacheSize: 2.67 GB\n",
      "\n"
     ]
    },
    {
     "name": "stderr",
     "output_type": "stream",
     "text": [
      "2022-11-07 18:12:15.512876: I tensorflow/core/common_runtime/pluggable_device/pluggable_device_factory.cc:305] Could not identify NUMA node of platform GPU ID 0, defaulting to 0. Your kernel may not have been built with NUMA support.\n",
      "2022-11-07 18:12:15.512957: I tensorflow/core/common_runtime/pluggable_device/pluggable_device_factory.cc:271] Created TensorFlow device (/job:localhost/replica:0/task:0/device:GPU:0 with 0 MB memory) -> physical PluggableDevice (device: 0, name: METAL, pci bus id: <undefined>)\n"
     ]
    }
   ],
   "source": [
    "# Load saved model\n",
    "model_name = 'baseline_kaggle_p100_e2'\n",
    "model = tf.keras.models.load_model(path + '/saved_model/' + model_name)"
   ]
  },
  {
   "cell_type": "code",
   "execution_count": 4,
   "metadata": {},
   "outputs": [],
   "source": [
    "# load training history and show keys\n",
    "with open(path + '/saved_model/' + model_name + '/trainHistoryDict', \"rb\") as file_pi:\n",
    "    history = pickle.load(file_pi)\n",
    "\n",
    "history.keys()"
   ]
  },
  {
   "cell_type": "code",
   "execution_count": 6,
   "metadata": {},
   "outputs": [],
   "source": [
    "# load training parameters and show keys\n",
    "with open(path + '/saved_model/' + model_name + '/trainParamsDict', \"rb\") as file_pi:\n",
    "    model_params = pickle.load(file_pi)\n",
    "\n",
    "model_params.keys()"
   ]
  },
  {
   "cell_type": "markdown",
   "metadata": {},
   "source": [
    "## Step 3) Set MLFlow logging parameters"
   ]
  },
  {
   "cell_type": "code",
   "execution_count": 8,
   "metadata": {},
   "outputs": [],
   "source": [
    "# setting parameters that should be logged on MLFlow\n",
    "params = {\n",
    "      #\"dataset\": model_params['ds'],\n",
    "      \"batch_size\": model_params['bs'],\n",
    "      \"image_size\": model_params['img_height'],\n",
    "      \"epochs\": model_params['eps'],\n",
    "      \"learning_rate\": model_params['lr'],\n",
    "  }"
   ]
  },
  {
   "cell_type": "code",
   "execution_count": 10,
   "metadata": {},
   "outputs": [],
   "source": [
    "#logging params to mlflow\n",
    "mlflow.log_params(params)\n",
    "\n",
    "#setting tags\n",
    "mlflow.set_tag(\"running_from_jupyter\", \"True\")\n",
    "\n",
    "#logging metrics - last epoch only\n",
    "mlflow.log_metric(\"train-\" + \"accuracy\", history['accuracy'][-1])\n",
    "mlflow.log_metric(\"valid-\" + \"accuracy\", history['val_accuracy'][-1])\n",
    "mlflow.log_metric(\"train-\" + \"loss\", history['loss'][-1])\n",
    "mlflow.log_metric(\"valid-\" + \"loss\", history['val_loss'][-1])\n",
    "\n",
    "# logging the model to mlflow will not work without a AWS Connection setup.. too complex for now\n",
    "# but possible if running mlflow locally\n",
    "\n",
    "# log model (only working locally, but not with server)\n",
    "#mlflow.sklearn.log_model(reg, \"model\")\n",
    "#mlflow.keras.log_model(model ,'InceptionV3')"
   ]
  },
  {
   "cell_type": "markdown",
   "metadata": {},
   "source": [
    "## Step 4) Stop MLFlow Run and get statistics"
   ]
  },
  {
   "cell_type": "code",
   "execution_count": null,
   "metadata": {},
   "outputs": [],
   "source": [
    "# stop run\n",
    "mlflow.end_run()"
   ]
  },
  {
   "cell_type": "code",
   "execution_count": 11,
   "metadata": {},
   "outputs": [
    {
     "data": {
      "text/plain": [
       "<Run: data=<RunData: metrics={'train-accuracy': 0.3838529884815216,\n",
       " 'train-loss': 69.74864196777344,\n",
       " 'valid-accuracy': 0.4154411852359772,\n",
       " 'valid-loss': 81.21258544921875}, params={'batch_size': '32',\n",
       " 'epochs': '2',\n",
       " 'image_size': '100',\n",
       " 'learning_rate': '0.03'}, tags={'mlflow.runName': 'base model test-extern',\n",
       " 'mlflow.source.git.commit': 'd31869fcff94d5ed009089d02d3c76d1ab5a4632',\n",
       " 'mlflow.source.name': '/Users/philipp/neuefische/ds-capstone-for-the-birds/.venv/lib/python3.9/site-packages/ipykernel_launcher.py',\n",
       " 'mlflow.source.type': 'LOCAL',\n",
       " 'mlflow.user': 'philipp',\n",
       " 'running_from_jupyter': 'True'}>, info=<RunInfo: artifact_uri='s3://neuefische-mlflow/mlflow-artifacts/59/f873d55fc7ca49e08049ee5475e4d16b/artifacts', end_time=1667841276928, experiment_id='59', lifecycle_stage='active', run_id='f873d55fc7ca49e08049ee5475e4d16b', run_uuid='f873d55fc7ca49e08049ee5475e4d16b', start_time=1667841132391, status='FINISHED', user_id='philipp'>>"
      ]
     },
     "execution_count": 11,
     "metadata": {},
     "output_type": "execute_result"
    }
   ],
   "source": [
    "# Print stats\n",
    "mlflow.get_run(run_id=run.info.run_id)"
   ]
  }
 ],
 "metadata": {
  "kernelspec": {
   "display_name": "Python 3.9.8 ('.venv': venv)",
   "language": "python",
   "name": "python3"
  },
  "language_info": {
   "codemirror_mode": {
    "name": "ipython",
    "version": 3
   },
   "file_extension": ".py",
   "mimetype": "text/x-python",
   "name": "python",
   "nbconvert_exporter": "python",
   "pygments_lexer": "ipython3",
   "version": "3.9.8"
  },
  "orig_nbformat": 4,
  "vscode": {
   "interpreter": {
    "hash": "99cf74314b42ac8a8c1da03c92f17d43111865473f1a5aa1cc3b81d76b6237d5"
   }
  }
 },
 "nbformat": 4,
 "nbformat_minor": 2
}
